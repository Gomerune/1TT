{
 "cells": [
  {
   "cell_type": "code",
   "execution_count": 6,
   "metadata": {},
   "outputs": [
    {
     "data": {
      "text/plain": [
       "[0, 1, 1, 2, 3, 5, 8]"
      ]
     },
     "execution_count": 6,
     "metadata": {},
     "output_type": "execute_result"
    }
   ],
   "source": [
    "# 1 Написать программу, которая будет выводить на экран числа Фибоначчи до заданного числа.  Не сказано что включительно.\n",
    "\n",
    "def numFib(num):\n",
    "    arr = [0,1]\n",
    "    while num > arr[-1]:\n",
    "        arr.append(arr[-2] + arr[-1])\n",
    "        if arr[-1] == num:\n",
    "            return arr\n",
    "        elif arr[-1] > num:\n",
    "            arr.pop(-1)\n",
    "            return arr\n",
    "        \n",
    "numFib(8)"
   ]
  },
  {
   "cell_type": "code",
   "execution_count": 37,
   "metadata": {},
   "outputs": [
    {
     "data": {
      "text/plain": [
       "[1, 2, 3, 4]"
      ]
     },
     "execution_count": 37,
     "metadata": {},
     "output_type": "execute_result"
    }
   ],
   "source": [
    "# 2 Напишите программу, которая на вход принимает список чисел и возвращает только уникальные значения из этого списка.\n",
    "\n",
    "def Set(arr):\n",
    "    result = []\n",
    "    for el in arr:\n",
    "        if el in result:\n",
    "            continue\n",
    "        else:\n",
    "            result.append(el)\n",
    "    return result\n",
    "\n",
    "Set([1,2,1,2,1,2,1,2,1,2,3,4])"
   ]
  },
  {
   "cell_type": "code",
   "execution_count": 43,
   "metadata": {},
   "outputs": [
    {
     "data": {
      "text/plain": [
       "-1.12"
      ]
     },
     "execution_count": 43,
     "metadata": {},
     "output_type": "execute_result"
    }
   ],
   "source": [
    "# 3 Напишите программу, которая переводит температуру в градусах Фаренгейта в градусы Цельсия.\n",
    "\n",
    "def temper(F):\n",
    "    return (F - 32) * 0.56\n",
    "\n",
    "temper(30)"
   ]
  },
  {
   "cell_type": "code",
   "execution_count": 50,
   "metadata": {},
   "outputs": [
    {
     "data": {
      "text/plain": [
       "True"
      ]
     },
     "execution_count": 50,
     "metadata": {},
     "output_type": "execute_result"
    }
   ],
   "source": [
    "# 4 Напишите программу, которая проверяет, является ли строка палиндромом без использования стандартных методов.\n",
    "\n",
    "def checkPalindrom(word: str):\n",
    "    word = word.upper()\n",
    "    if word == word[::-1]:\n",
    "        return True\n",
    "    return False\n",
    "     \n",
    "    \n",
    "checkPalindrom(\"Tsest\")"
   ]
  }
 ],
 "metadata": {
  "kernelspec": {
   "display_name": "Python 3",
   "language": "python",
   "name": "python3"
  },
  "language_info": {
   "codemirror_mode": {
    "name": "ipython",
    "version": 3
   },
   "file_extension": ".py",
   "mimetype": "text/x-python",
   "name": "python",
   "nbconvert_exporter": "python",
   "pygments_lexer": "ipython3",
   "version": "3.10.12"
  },
  "orig_nbformat": 4
 },
 "nbformat": 4,
 "nbformat_minor": 2
}
